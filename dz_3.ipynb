{
 "cells": [
  {
   "cell_type": "code",
   "execution_count": 1,
   "id": "3ec79b37",
   "metadata": {},
   "outputs": [],
   "source": [
    "# создаем класс Car c атрибутами brand и year\n",
    "class Car:\n",
    "    def __init__(self, brand, year):\n",
    "        self.brand = brand\n",
    "        self.year = year"
   ]
  },
  {
   "cell_type": "code",
   "execution_count": 2,
   "id": "fb54cd19",
   "metadata": {},
   "outputs": [],
   "source": [
    "# добавляем метод start_engine\n",
    "def start_engine(self):\n",
    "        print(\"Двигатель запущен!\")"
   ]
  },
  {
   "cell_type": "code",
   "execution_count": 3,
   "id": "3fe77810",
   "metadata": {},
   "outputs": [
    {
     "name": "stdout",
     "output_type": "stream",
     "text": [
      "Марка: gelly\n",
      "Год: 2020\n"
     ]
    }
   ],
   "source": [
    "# создаем обьект my_car\n",
    "my_car = Car(\"gelly\", 2020)\n",
    "\n",
    "# печатаем атрибуты объекта my_car\n",
    "print(f\"Марка: {my_car.brand}\")\n",
    "print(f\"Год: {my_car.year}\")"
   ]
  },
  {
   "cell_type": "code",
   "execution_count": 4,
   "id": "d11cd458",
   "metadata": {},
   "outputs": [],
   "source": [
    "# создаем класс1\n",
    "class Class_1:\n",
    "    def first_method(self):\n",
    "        print(\"метод первого класса\")\n",
    "\n",
    "# создаем класс1\n",
    "class Class_2:\n",
    "    def second_method(self):\n",
    "        print(\"метод второго класса\")\n",
    "# Класс, который наследует оба класса\n",
    "class Class_combo(Class_1, Class_2):\n",
    "    def combo_method(self):\n",
    "        print(\"метод комбо класса\")"
   ]
  },
  {
   "cell_type": "code",
   "execution_count": null,
   "id": "b56d7311",
   "metadata": {},
   "outputs": [],
   "source": []
  }
 ],
 "metadata": {
  "kernelspec": {
   "display_name": "Python 3 (ipykernel)",
   "language": "python",
   "name": "python3"
  },
  "language_info": {
   "codemirror_mode": {
    "name": "ipython",
    "version": 3
   },
   "file_extension": ".py",
   "mimetype": "text/x-python",
   "name": "python",
   "nbconvert_exporter": "python",
   "pygments_lexer": "ipython3",
   "version": "3.11.5"
  }
 },
 "nbformat": 4,
 "nbformat_minor": 5
}
